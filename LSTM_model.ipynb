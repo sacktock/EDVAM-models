{
  "nbformat": 4,
  "nbformat_minor": 0,
  "metadata": {
    "colab": {
      "name": "LSTM-model.ipynb",
      "provenance": [],
      "authorship_tag": "ABX9TyOIBaocm1iXRZ1SXZzWtoQA",
      "include_colab_link": true
    },
    "kernelspec": {
      "name": "python3",
      "display_name": "Python 3"
    },
    "language_info": {
      "name": "python"
    }
  },
  "cells": [
    {
      "cell_type": "markdown",
      "metadata": {
        "id": "view-in-github",
        "colab_type": "text"
      },
      "source": [
        "<a href=\"https://colab.research.google.com/github/sacktock/Visual-Attention-LSTM/blob/main/LSTM_model.ipynb\" target=\"_parent\"><img src=\"https://colab.research.google.com/assets/colab-badge.svg\" alt=\"Open In Colab\"/></a>"
      ]
    },
    {
      "cell_type": "markdown",
      "metadata": {
        "id": "x08w7Heu4_zG"
      },
      "source": [
        "**LSTM model for the EDVAM data set**\n",
        "\n",
        "EDVAM: the first 3D eye tracking dataset for a virtual world.\n",
        "https://github.com/YunzhanZHOU/EDVAM\n",
        "\n"
      ]
    },
    {
      "cell_type": "markdown",
      "metadata": {
        "id": "nXpzZ2iO5kUd"
      },
      "source": [
        "**Mount Google Drive**"
      ]
    },
    {
      "cell_type": "code",
      "metadata": {
        "colab": {
          "base_uri": "https://localhost:8080/"
        },
        "id": "yC7w43nH4qSs",
        "outputId": "481f4b4c-c7ee-4234-f0d4-896a2b0b132e"
      },
      "source": [
        "from google.colab import drive\n",
        "drive.mount('/content/drive')"
      ],
      "execution_count": 2,
      "outputs": [
        {
          "output_type": "stream",
          "text": [
            "Mounted at /content/drive\n"
          ],
          "name": "stdout"
        }
      ]
    },
    {
      "cell_type": "markdown",
      "metadata": {
        "id": "Vh7W8AVZJi-z"
      },
      "source": [
        "**Install dependencies**"
      ]
    },
    {
      "cell_type": "code",
      "metadata": {
        "colab": {
          "base_uri": "https://localhost:8080/"
        },
        "id": "QBgspfsDJiE1",
        "outputId": "eb19468d-b1e2-4620-e72e-98590cac2688"
      },
      "source": [
        "!pip install livelossplot"
      ],
      "execution_count": 3,
      "outputs": [
        {
          "output_type": "stream",
          "text": [
            "Collecting livelossplot\n",
            "  Downloading livelossplot-0.5.4-py3-none-any.whl (22 kB)\n",
            "Requirement already satisfied: ipython in /usr/local/lib/python3.7/dist-packages (from livelossplot) (5.5.0)\n",
            "Requirement already satisfied: bokeh in /usr/local/lib/python3.7/dist-packages (from livelossplot) (2.3.3)\n",
            "Requirement already satisfied: matplotlib in /usr/local/lib/python3.7/dist-packages (from livelossplot) (3.2.2)\n",
            "Requirement already satisfied: PyYAML>=3.10 in /usr/local/lib/python3.7/dist-packages (from bokeh->livelossplot) (3.13)\n",
            "Requirement already satisfied: pillow>=7.1.0 in /usr/local/lib/python3.7/dist-packages (from bokeh->livelossplot) (7.1.2)\n",
            "Requirement already satisfied: tornado>=5.1 in /usr/local/lib/python3.7/dist-packages (from bokeh->livelossplot) (5.1.1)\n",
            "Requirement already satisfied: typing-extensions>=3.7.4 in /usr/local/lib/python3.7/dist-packages (from bokeh->livelossplot) (3.7.4.3)\n",
            "Requirement already satisfied: numpy>=1.11.3 in /usr/local/lib/python3.7/dist-packages (from bokeh->livelossplot) (1.19.5)\n",
            "Requirement already satisfied: python-dateutil>=2.1 in /usr/local/lib/python3.7/dist-packages (from bokeh->livelossplot) (2.8.1)\n",
            "Requirement already satisfied: Jinja2>=2.9 in /usr/local/lib/python3.7/dist-packages (from bokeh->livelossplot) (2.11.3)\n",
            "Requirement already satisfied: packaging>=16.8 in /usr/local/lib/python3.7/dist-packages (from bokeh->livelossplot) (21.0)\n",
            "Requirement already satisfied: MarkupSafe>=0.23 in /usr/local/lib/python3.7/dist-packages (from Jinja2>=2.9->bokeh->livelossplot) (2.0.1)\n",
            "Requirement already satisfied: pyparsing>=2.0.2 in /usr/local/lib/python3.7/dist-packages (from packaging>=16.8->bokeh->livelossplot) (2.4.7)\n",
            "Requirement already satisfied: six>=1.5 in /usr/local/lib/python3.7/dist-packages (from python-dateutil>=2.1->bokeh->livelossplot) (1.15.0)\n",
            "Requirement already satisfied: pickleshare in /usr/local/lib/python3.7/dist-packages (from ipython->livelossplot) (0.7.5)\n",
            "Requirement already satisfied: traitlets>=4.2 in /usr/local/lib/python3.7/dist-packages (from ipython->livelossplot) (5.0.5)\n",
            "Requirement already satisfied: prompt-toolkit<2.0.0,>=1.0.4 in /usr/local/lib/python3.7/dist-packages (from ipython->livelossplot) (1.0.18)\n",
            "Requirement already satisfied: simplegeneric>0.8 in /usr/local/lib/python3.7/dist-packages (from ipython->livelossplot) (0.8.1)\n",
            "Requirement already satisfied: pexpect in /usr/local/lib/python3.7/dist-packages (from ipython->livelossplot) (4.8.0)\n",
            "Requirement already satisfied: decorator in /usr/local/lib/python3.7/dist-packages (from ipython->livelossplot) (4.4.2)\n",
            "Requirement already satisfied: pygments in /usr/local/lib/python3.7/dist-packages (from ipython->livelossplot) (2.6.1)\n",
            "Requirement already satisfied: setuptools>=18.5 in /usr/local/lib/python3.7/dist-packages (from ipython->livelossplot) (57.2.0)\n",
            "Requirement already satisfied: wcwidth in /usr/local/lib/python3.7/dist-packages (from prompt-toolkit<2.0.0,>=1.0.4->ipython->livelossplot) (0.2.5)\n",
            "Requirement already satisfied: ipython-genutils in /usr/local/lib/python3.7/dist-packages (from traitlets>=4.2->ipython->livelossplot) (0.2.0)\n",
            "Requirement already satisfied: kiwisolver>=1.0.1 in /usr/local/lib/python3.7/dist-packages (from matplotlib->livelossplot) (1.3.1)\n",
            "Requirement already satisfied: cycler>=0.10 in /usr/local/lib/python3.7/dist-packages (from matplotlib->livelossplot) (0.10.0)\n",
            "Requirement already satisfied: ptyprocess>=0.5 in /usr/local/lib/python3.7/dist-packages (from pexpect->ipython->livelossplot) (0.7.0)\n",
            "Installing collected packages: livelossplot\n",
            "Successfully installed livelossplot-0.5.4\n"
          ],
          "name": "stdout"
        }
      ]
    },
    {
      "cell_type": "markdown",
      "metadata": {
        "id": "OmYqk3-E5s_l"
      },
      "source": [
        "**Imports**"
      ]
    },
    {
      "cell_type": "code",
      "metadata": {
        "id": "R7JrV5tQ5sov"
      },
      "source": [
        "import math\n",
        "import numpy as np\n",
        "import torch\n",
        "import torch.nn as nn\n",
        "import torch.nn.functional as F\n",
        "from torch.utils.data import Dataset\n",
        "import matplotlib.pyplot as plt\n",
        "from livelossplot import PlotLosses\n",
        "\n",
        "device = torch.device(\"cuda\" if torch.cuda.is_available() else \"cpu\")"
      ],
      "execution_count": 4,
      "outputs": []
    },
    {
      "cell_type": "markdown",
      "metadata": {
        "id": "EoQ9Bog0Bj9g"
      },
      "source": [
        "**Hyper-params**\n"
      ]
    },
    {
      "cell_type": "code",
      "metadata": {
        "id": "i3ArV-FZBoT1"
      },
      "source": [
        "batch_size = 128\n",
        "learning_rate = 1e-4\n",
        "n_epoch = 40\n",
        "start_epoch = 0"
      ],
      "execution_count": 5,
      "outputs": []
    },
    {
      "cell_type": "markdown",
      "metadata": {
        "id": "OLRgdex452kb"
      },
      "source": [
        "**Import Dataset**"
      ]
    },
    {
      "cell_type": "code",
      "metadata": {
        "id": "6-KOiOX86AI2"
      },
      "source": [
        "# Fetch the training data and labels\n",
        "train_data = np.load('drive/My Drive/EDVAM_practical_subset/train.npy')\n",
        "train_label = np.load('drive/My Drive/EDVAM_practical_subset/train_label.npy')\n",
        "\n",
        "# Fetch the test data and labels\n",
        "test_data = np.load('drive/My Drive/EDVAM_practical_subset/test.npy')\n",
        "test_label = np.load('drive/My Drive/EDVAM_practical_subset/test_label.npy')\n",
        "\n",
        "# Wrapper for the datasets\n",
        "class EyeTrackingDataset(Dataset):\n",
        "    \n",
        "    def __init__(self, features, labels):\n",
        "        self.features = [torch.tensor(data_item) for data_item in features]\n",
        "        self.labels = labels\n",
        "\n",
        "    def __len__(self):\n",
        "        return len(self.features)\n",
        "\n",
        "    def __getitem__(self,idx):\n",
        "        sample = (self.features[idx], self.labels[idx])\n",
        "        return sample\n",
        "\n",
        "# Init the train set and test set\n",
        "train_set = EyeTrackingDataset(train_data, train_label)\n",
        "test_set = EyeTrackingDataset(test_data, test_label)\n",
        "\n",
        "# Init the train loader and test loader\n",
        "train_loader = torch.utils.data.DataLoader(train_set, batch_size=batch_size, shuffle=True, drop_last=True)\n",
        "test_loader = torch.utils.data.DataLoader(test_set, batch_size=batch_size, shuffle=True)\n",
        "\n",
        "test_iter = iter(test_set)"
      ],
      "execution_count": 6,
      "outputs": []
    },
    {
      "cell_type": "markdown",
      "metadata": {
        "id": "lpqWXNkA_e0U"
      },
      "source": [
        "**Looking at the Dataset**"
      ]
    },
    {
      "cell_type": "code",
      "metadata": {
        "colab": {
          "base_uri": "https://localhost:8080/"
        },
        "id": "cYfH8AMx_ki0",
        "outputId": "5ba9403e-aa2a-4210-dccd-a3bab04855bd"
      },
      "source": [
        "# Visualizing the data\n",
        "print('Train set size:', len(train_set))\n",
        "print('Test set size:',len(test_set))\n",
        "print()\n",
        "\n",
        "print('Data item:')\n",
        "print(train_set[1])\n",
        "print()\n",
        "\n",
        "print('Time window:',train_set[1][0])\n",
        "print()\n",
        "print('Label:',train_set[1][0])\n",
        "print()\n",
        "\n",
        "print('Time window shape', test_set[1][0].shape)\n",
        "print()\n",
        "\n",
        "print('Frame:', train_set[1][0][1])\n",
        "print()\n",
        "print('Frame shape', train_set[1][0][1].shape)"
      ],
      "execution_count": 11,
      "outputs": [
        {
          "output_type": "stream",
          "text": [
            "Train set size: 190830\n",
            "Test set size: 32530\n",
            "\n",
            "Data item:\n",
            "(tensor([[-1.5297e+01,  8.9990e-01, -3.8008e+00,  ...,  1.0312e+02,\n",
            "          5.9100e+02,  5.9100e+02],\n",
            "        [-1.5500e+01,  1.9004e+00, -4.8984e+00,  ...,  1.0312e+02,\n",
            "          5.9100e+02,  5.9100e+02],\n",
            "        [-1.5500e+01,  2.1992e+00, -5.3008e+00,  ...,  1.0312e+02,\n",
            "          5.9100e+02,  5.9100e+02],\n",
            "        ...,\n",
            "        [-1.5500e+01,  2.1992e+00, -4.1016e+00,  ..., -3.9562e+01,\n",
            "          1.3670e+03,  1.3670e+03],\n",
            "        [-1.5500e+01,  2.1992e+00, -4.1016e+00,  ..., -3.9562e+01,\n",
            "          1.3670e+03,  1.3670e+03],\n",
            "        [-1.5500e+01,  2.1992e+00, -4.1016e+00,  ..., -3.9562e+01,\n",
            "          1.3670e+03,  1.3670e+03]], dtype=torch.float16), 0.0)\n",
            "\n",
            "Time window: tensor([[-1.5297e+01,  8.9990e-01, -3.8008e+00,  ...,  1.0312e+02,\n",
            "          5.9100e+02,  5.9100e+02],\n",
            "        [-1.5500e+01,  1.9004e+00, -4.8984e+00,  ...,  1.0312e+02,\n",
            "          5.9100e+02,  5.9100e+02],\n",
            "        [-1.5500e+01,  2.1992e+00, -5.3008e+00,  ...,  1.0312e+02,\n",
            "          5.9100e+02,  5.9100e+02],\n",
            "        ...,\n",
            "        [-1.5500e+01,  2.1992e+00, -4.1016e+00,  ..., -3.9562e+01,\n",
            "          1.3670e+03,  1.3670e+03],\n",
            "        [-1.5500e+01,  2.1992e+00, -4.1016e+00,  ..., -3.9562e+01,\n",
            "          1.3670e+03,  1.3670e+03],\n",
            "        [-1.5500e+01,  2.1992e+00, -4.1016e+00,  ..., -3.9562e+01,\n",
            "          1.3670e+03,  1.3670e+03]], dtype=torch.float16)\n",
            "\n",
            "Label: tensor([[-1.5297e+01,  8.9990e-01, -3.8008e+00,  ...,  1.0312e+02,\n",
            "          5.9100e+02,  5.9100e+02],\n",
            "        [-1.5500e+01,  1.9004e+00, -4.8984e+00,  ...,  1.0312e+02,\n",
            "          5.9100e+02,  5.9100e+02],\n",
            "        [-1.5500e+01,  2.1992e+00, -5.3008e+00,  ...,  1.0312e+02,\n",
            "          5.9100e+02,  5.9100e+02],\n",
            "        ...,\n",
            "        [-1.5500e+01,  2.1992e+00, -4.1016e+00,  ..., -3.9562e+01,\n",
            "          1.3670e+03,  1.3670e+03],\n",
            "        [-1.5500e+01,  2.1992e+00, -4.1016e+00,  ..., -3.9562e+01,\n",
            "          1.3670e+03,  1.3670e+03],\n",
            "        [-1.5500e+01,  2.1992e+00, -4.1016e+00,  ..., -3.9562e+01,\n",
            "          1.3670e+03,  1.3670e+03]], dtype=torch.float16)\n",
            "\n",
            "Time window shape torch.Size([300, 40])\n",
            "\n",
            "Frame: tensor([-1.5500e+01,  1.9004e+00, -4.8984e+00, -1.9906e+01,  1.7002e+00,\n",
            "        -4.1992e+00,  1.0000e+00,  0.0000e+00, -1.9995e-01,  2.3169e-01,\n",
            "         5.0537e-01,  5.6982e-01,  5.6494e-01,  5.5078e-01,  1.4450e+02,\n",
            "         3.6150e+02,  2.1550e+02,  1.3288e+02,  1.4450e+02,  8.9125e+01,\n",
            "         3.3262e+00,  1.0000e+00,  3.0000e+00,  1.6738e+00, -5.5586e+00,\n",
            "         2.5172e+01,  1.2000e+01,  9.4727e-01, -4.9048e-01,  1.4320e+01,\n",
            "        -6.0577e-02,  4.2236e-01, -9.0430e-01,  1.6631e+00,  2.0059e+00,\n",
            "        -1.6377e+00,  3.6125e+02,  1.0312e+02,  5.9100e+02,  5.9100e+02],\n",
            "       dtype=torch.float16)\n",
            "\n",
            "Frame shape torch.Size([40])\n"
          ],
          "name": "stdout"
        }
      ]
    }
  ]
}