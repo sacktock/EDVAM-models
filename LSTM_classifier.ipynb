{
  "nbformat": 4,
  "nbformat_minor": 0,
  "metadata": {
    "colab": {
      "name": "LSTM-classifier.ipynb",
      "provenance": [],
      "collapsed_sections": [],
      "machine_shape": "hm",
      "include_colab_link": true
    },
    "kernelspec": {
      "name": "python3",
      "display_name": "Python 3"
    },
    "language_info": {
      "name": "python"
    },
    "accelerator": "GPU"
  },
  "cells": [
    {
      "cell_type": "markdown",
      "metadata": {
        "id": "view-in-github",
        "colab_type": "text"
      },
      "source": [
        "<a href=\"https://colab.research.google.com/github/sacktock/EDVAM-models/blob/main/LSTM_classifier.ipynb\" target=\"_parent\"><img src=\"https://colab.research.google.com/assets/colab-badge.svg\" alt=\"Open In Colab\"/></a>"
      ]
    },
    {
      "cell_type": "markdown",
      "metadata": {
        "id": "x08w7Heu4_zG"
      },
      "source": [
        "**LSTM classifier for the EDVAM dataset**\n",
        "\n",
        "EDVAM: the first 3D eye tracking dataset for a virtual world.\n",
        "https://github.com/YunzhanZHOU/EDVAM\n",
        "\n",
        "Best configuration of parameters found (so far):\n",
        "*   Original model - with 1 LSTM cell:\n",
        "  *   12 input features\n",
        "  *   hidden size = 12\n",
        "  *   dropout = 0.4\n",
        "  *   12 output classes\n",
        "*   Hyper-parameters:\n",
        "  *   batch size = 32\n",
        "  *   learning rate = 0.1\n",
        "  *   number of epochs = 30\n",
        "  *   decay learning rate by a factor of 10 every 15 epochs\n",
        "  *   stochactic gradient descent (SGD) optimizer\n",
        "*   Other tricks:\n",
        "  *   normalize entire dataset\n",
        "  *   batch normalization\n",
        "  *   stochastic frame sampling - 78 frames\n",
        "  *   trainable initial state\n",
        "  *   set forget gate biases to 1\n",
        "\n",
        "Results: the (best) validation accuracy acheived with this model was 74.819%\n",
        "\n",
        "\n",
        "\n",
        "\n",
        "\n",
        "\n",
        "\n",
        "\n",
        "\n",
        "\n",
        "\n",
        "\n"
      ]
    },
    {
      "cell_type": "markdown",
      "metadata": {
        "id": "nXpzZ2iO5kUd"
      },
      "source": [
        "**Mount Google Drive**"
      ]
    },
    {
      "cell_type": "code",
      "metadata": {
        "id": "yC7w43nH4qSs"
      },
      "source": [
        "from google.colab import drive\n",
        "drive.mount('/content/drive')"
      ],
      "execution_count": null,
      "outputs": []
    },
    {
      "cell_type": "markdown",
      "metadata": {
        "id": "Vh7W8AVZJi-z"
      },
      "source": [
        "**Install Dependencies**"
      ]
    },
    {
      "cell_type": "code",
      "metadata": {
        "id": "QBgspfsDJiE1"
      },
      "source": [
        "!pip install livelossplot"
      ],
      "execution_count": null,
      "outputs": []
    },
    {
      "cell_type": "markdown",
      "metadata": {
        "id": "OmYqk3-E5s_l"
      },
      "source": [
        "**Imports**"
      ]
    },
    {
      "cell_type": "code",
      "metadata": {
        "id": "R7JrV5tQ5sov"
      },
      "source": [
        "import math\n",
        "import numpy as np\n",
        "import torch\n",
        "import torch.nn as nn\n",
        "from torch.utils.data import TensorDataset, DataLoader\n",
        "from livelossplot import PlotLosses\n",
        "\n",
        "device = torch.device(\"cuda\" if torch.cuda.is_available() else \"cpu\")"
      ],
      "execution_count": 3,
      "outputs": []
    },
    {
      "cell_type": "markdown",
      "metadata": {
        "id": "EoQ9Bog0Bj9g"
      },
      "source": [
        "**Hyper-params**\n"
      ]
    },
    {
      "cell_type": "code",
      "metadata": {
        "id": "i3ArV-FZBoT1"
      },
      "source": [
        "batch_size = 32\n",
        "learning_rate = 0.1\n",
        "n_epoch = 40\n",
        "\n",
        "lr_halflife = 20. # learning rate decay in epochs\n",
        "lr_decay_rate = .1**(1./lr_halflife) # decay by a factor of 10 after 20 epochs"
      ],
      "execution_count": 4,
      "outputs": []
    },
    {
      "cell_type": "markdown",
      "metadata": {
        "id": "OLRgdex452kb"
      },
      "source": [
        "**Import Dataset**"
      ]
    },
    {
      "cell_type": "code",
      "metadata": {
        "id": "6-KOiOX86AI2"
      },
      "source": [
        "# fetch the training data and labels\n",
        "train_set = np.load('drive/My Drive/EDVAM_practical_subset/train.npy')\n",
        "train_set = np.delete(train_set, [10, 11] + [i for i in range(14,40)], axis=2)\n",
        "train_label = np.load('drive/My Drive/EDVAM_practical_subset/train_label.npy')\n",
        "\n",
        "# fetch the test data and labels\n",
        "test_set = np.load('drive/My Drive/EDVAM_practical_subset/test.npy')\n",
        "test_set = np.delete(test_set, [10, 11] + [i for i in range(14,40)], axis=2)\n",
        "# split the test set into sequnces of 78 frames instead of 300\n",
        "test_set = np.concatenate((test_set[:, 0:150:6 , :], test_set[:, 150:240:5, :], test_set[:, 240:290:2, :], test_set[:, 290:300, :]), axis=1)\n",
        "test_label = np.load('drive/My Drive/EDVAM_practical_subset/test_label.npy')\n",
        "\n",
        "# normalize both datasets using pre-computed means and stds\n",
        "means = np.array([[[-14.37293346, 1.62620999 , -4.38974475, -16.22418695, 1.71081376, \n",
        "                    -4.03731866, 0.48303131, -0.04178857, -0.03728982, 0.55570785, 0.49841385, 0.55300117]]], dtype=np.float16)\n",
        "\n",
        "stds = np.array([[[4.06166681, 0.86760783, 2.84685403, 2.68625898, 0.06159622, 1.63527627, 0.65958249, \n",
        "                   0.18040276, 0.55574791, 0.41272051, 0.23186055, 0.62825613]]], dtype=np.float16)\n",
        "\n",
        "train_set = (train_set - means) / stds\n",
        "test_set = (test_set - means) / stds\n",
        "\n",
        "# wrap data in tensors and init data loaders\n",
        "train_data = TensorDataset(torch.from_numpy(train_set), torch.from_numpy(train_label))\n",
        "test_data = TensorDataset(torch.from_numpy(test_set), torch.from_numpy(test_label))\n",
        "\n",
        "train_loader = DataLoader(train_data, batch_size=batch_size, shuffle=True, drop_last=True)\n",
        "test_loader = DataLoader(test_data, batch_size=batch_size, shuffle=True)\n",
        "\n",
        "dataloaders = {\"train\": train_loader, \"test\": test_loader}"
      ],
      "execution_count": 5,
      "outputs": []
    },
    {
      "cell_type": "markdown",
      "metadata": {
        "id": "lpqWXNkA_e0U"
      },
      "source": [
        "**Looking at the Dataset**"
      ]
    },
    {
      "cell_type": "code",
      "metadata": {
        "colab": {
          "base_uri": "https://localhost:8080/"
        },
        "id": "cYfH8AMx_ki0",
        "outputId": "d675d2b7-d553-4ab9-aa52-66806caa34b7"
      },
      "source": [
        "# Visualizing the data\n",
        "print('Train set size:', len(train_data))\n",
        "print('Test set size:',len(test_data))\n",
        "print()\n",
        "\n",
        "print('Data item:')\n",
        "print(train_data[1])\n",
        "print()\n",
        "\n",
        "print('Time window:',train_data[1][0])\n",
        "print()\n",
        "print('Label:',train_data[1][1])\n",
        "print()\n",
        "\n",
        "print('Time window shape', test_data[1][0].shape)\n",
        "print()\n",
        "\n",
        "print('Frame:', train_data[1][0][1])\n",
        "print()\n",
        "print('Frame shape', train_data[1][0][1].shape)\n",
        "\n",
        "# Compute means and stds\n",
        "arr = train_set.reshape(-1, train_set.shape[-1])\n",
        "arr = arr.astype(np.float128)\n",
        "\n",
        "print(arr.mean(axis=0))\n",
        "print(arr.std(axis=0))\n",
        "\n",
        "del arr"
      ],
      "execution_count": 5,
      "outputs": [
        {
          "output_type": "stream",
          "text": [
            "Train set size: 190830\n",
            "Test set size: 32530\n",
            "\n",
            "Data item:\n",
            "(tensor([[-0.2269, -0.8369,  0.2072,  ..., -0.7651,  0.4761,  0.0287],\n",
            "        [-0.2769,  0.3162, -0.1783,  ..., -0.7847,  0.2864, -0.0039],\n",
            "        [-0.2769,  0.6606, -0.3196,  ..., -0.8384,  0.1074, -0.0497],\n",
            "        ...,\n",
            "        [-0.2769,  0.6606,  0.1015,  ...,  0.8774,  0.4592, -0.0870],\n",
            "        [-0.2769,  0.6606,  0.1015,  ...,  0.8823,  0.4529, -0.0882],\n",
            "        [-0.2769,  0.6606,  0.1015,  ...,  1.0762,  0.4443, -0.0925]],\n",
            "       dtype=torch.float16), tensor(0., dtype=torch.float64))\n",
            "\n",
            "Time window: tensor([[-0.2269, -0.8369,  0.2072,  ..., -0.7651,  0.4761,  0.0287],\n",
            "        [-0.2769,  0.3162, -0.1783,  ..., -0.7847,  0.2864, -0.0039],\n",
            "        [-0.2769,  0.6606, -0.3196,  ..., -0.8384,  0.1074, -0.0497],\n",
            "        ...,\n",
            "        [-0.2769,  0.6606,  0.1015,  ...,  0.8774,  0.4592, -0.0870],\n",
            "        [-0.2769,  0.6606,  0.1015,  ...,  0.8823,  0.4529, -0.0882],\n",
            "        [-0.2769,  0.6606,  0.1015,  ...,  1.0762,  0.4443, -0.0925]],\n",
            "       dtype=torch.float16)\n",
            "\n",
            "Label: tensor(0., dtype=torch.float64)\n",
            "\n",
            "Time window shape torch.Size([78, 12])\n",
            "\n",
            "Frame: tensor([-0.2769,  0.3162, -0.1783, -1.3730, -0.1744, -0.0979,  0.7837,  0.2316,\n",
            "        -0.2927, -0.7847,  0.2864, -0.0039], dtype=torch.float16)\n",
            "\n",
            "Frame shape torch.Size([12])\n",
            "[ 5.43600212e-04  2.68001974e-04  2.91016642e-04 -2.00766921e-03\n",
            " -1.95684185e-03  1.05057833e-03  1.46676147e-04 -8.15213283e-05\n",
            " -6.97246481e-05  9.06883934e-05 -5.25908871e-04 -3.54098383e-04]\n",
            "[0.99975055 1.00000633 0.99964808 1.00027796 1.00041453 0.99968052\n",
            " 0.99985345 0.99990728 1.00009296 0.99965122 1.00032314 1.00004283]\n"
          ],
          "name": "stdout"
        }
      ]
    },
    {
      "cell_type": "markdown",
      "metadata": {
        "id": "1Kq9PB7HQTfo"
      },
      "source": [
        "**Define the Model (original)**"
      ]
    },
    {
      "cell_type": "code",
      "metadata": {
        "id": "8abdDLQdQS_g"
      },
      "source": [
        "class LSTMModel(nn.Module):\n",
        "\n",
        "  def __init__(self, input_size, output_size, hidden_dim=12, dropout=0.4):\n",
        "    super().__init__()    \n",
        "    self.output_size = output_size\n",
        "    self.hidden_dim = hidden_dim\n",
        "\n",
        "    self.drop = nn.Dropout(dropout)\n",
        "    self.lstm = nn.LSTMCell(input_size, hidden_dim)\n",
        "    self.linear = nn.Linear(hidden_dim, output_size)\n",
        "\n",
        "\n",
        "    self.init_weights()\n",
        "    self.init_hidden()\n",
        "\n",
        "  def init_weights(self):\n",
        "    # init the weights of the linear classifier\n",
        "    initrange = 0.1\n",
        "    self.linear.bias.data.zero_()\n",
        "    self.linear.weight.data.uniform_(-initrange, initrange)\n",
        "\n",
        "    # set the forget gate bias to 1\n",
        "    n = self.lstm.bias_hh.size(0)\n",
        "    start, end = n//4, n//2\n",
        "    self.lstm.bias_hh.data[start:end].fill_(1.)\n",
        "\n",
        "    n = self.lstm.bias_ih.size(0)\n",
        "    start, end = n//4, n//2\n",
        "    self.lstm.bias_ih.data[start:end].fill_(1.)\n",
        "\n",
        "  def init_hidden(self):\n",
        "    # init the trainable initial hidden state\n",
        "    h0 = torch.zeros(1, self.hidden_dim).to(device)\n",
        "    c0 = torch.zeros(1, self.hidden_dim).to(device)\n",
        "    nn.init.xavier_normal_(h0, gain=nn.init.calculate_gain('relu'))\n",
        "    nn.init.xavier_normal_(c0, gain=nn.init.calculate_gain('relu'))\n",
        "    self.h0 = nn.Parameter(h0, requires_grad=True) \n",
        "    self.c0 = nn.Parameter(c0, requires_grad=True)\n",
        "\n",
        "  def forward(self, input):\n",
        "    input = input.float()\n",
        "    batch_size = input.shape[0]\n",
        "\n",
        "    # initial hidden state \n",
        "    h_t, c_t = (self.h0.repeat(batch_size, 1), self.c0.repeat(batch_size, 1))\n",
        "\n",
        "    for i, input in enumerate(input.chunk(input.size(1), dim=1)):\n",
        "      h_t, c_t = self.lstm(input.squeeze(), (h_t, c_t))\n",
        "\n",
        "    output = self.linear(self.drop(h_t))\n",
        "\n",
        "    return output\n",
        "\n",
        "input_size = 12\n",
        "output_size = 12\n",
        "\n",
        "model = LSTMModel(input_size, output_size).to(device)\n",
        "optim = torch.optim.SGD(model.parameters(), lr=learning_rate)\n",
        "liveplot = PlotLosses()"
      ],
      "execution_count": 6,
      "outputs": []
    },
    {
      "cell_type": "markdown",
      "metadata": {
        "id": "Q2OsUNrb_Jsp"
      },
      "source": [
        "**Define the Model (new)**"
      ]
    },
    {
      "cell_type": "code",
      "metadata": {
        "id": "SrjGFI18_So9"
      },
      "source": [
        "class LSTMModel(nn.Module):\n",
        "\n",
        "  def __init__(self, input_size, output_size, hidden_dim=20, num_layers=3, dropout=0):\n",
        "    super().__init__()\n",
        "    self.input_size = input_size\n",
        "    self.output_size = output_size\n",
        "    self.hidden_dim = hidden_dim\n",
        "    self.num_layers = num_layers\n",
        "\n",
        "    self.drop = nn.Dropout(dropout)\n",
        "    self.lstm = nn.LSTM(self.input_size, self.hidden_dim, self.num_layers, dropout=dropout, batch_first=True)\n",
        "    self.linear = nn.Linear(self.hidden_dim, self.output_size)\n",
        "\n",
        "    self.init_weights()\n",
        "    self.init_hidden()\n",
        "\n",
        "  def init_weights(self):\n",
        "    initrange = 0.1\n",
        "    self.linear.bias.data.zero_()\n",
        "    self.linear.weight.data.uniform_(-initrange, initrange)\n",
        "\n",
        "    # set the forget gate bias to 1\n",
        "    for names in self.lstm._all_weights:\n",
        "      for name in filter(lambda n: \"bias\" in n,  names):\n",
        "          bias = getattr(self.lstm, name)\n",
        "          n = bias.size(0)\n",
        "          start, end = n//4, n//2\n",
        "          bias.data[start:end].fill_(1.)\n",
        "\n",
        "  def init_hidden(self):\n",
        "    # init the trainable initial hidden state\n",
        "    h0 = torch.zeros(self.num_layers, 1, self.hidden_dim).to(device)\n",
        "    c0 = torch.zeros(self.num_layers, 1, self.hidden_dim).to(device)\n",
        "    nn.init.xavier_normal_(h0, gain=nn.init.calculate_gain('relu'))\n",
        "    nn.init.xavier_normal_(c0, gain=nn.init.calculate_gain('relu'))\n",
        "    self.h0 = nn.Parameter(h0, requires_grad=True)  # Parameter() to update weights\n",
        "    self.c0 = nn.Parameter(c0, requires_grad=True)\n",
        "    \n",
        "  def forward(self, input):\n",
        "    input = input.float()\n",
        "    batch_size = input.shape[0]\n",
        "    \n",
        "    # initial hidden state \n",
        "    hidden = (self.h0.repeat(1, batch_size, 1), self.c0.repeat(1, batch_size, 1))\n",
        "\n",
        "    lstm_out, _ = self.lstm(input, hidden)\n",
        "    last_lstm_out = lstm_out[:, -1, :].view(-1, self.hidden_dim)\n",
        "\n",
        "    output = self.linear(last_lstm_out)\n",
        "    return output\n",
        "\n",
        "input_size = 12\n",
        "output_size = 12\n",
        "\n",
        "model = LSTMModel(input_size, output_size).to(device)\n",
        "optim = torch.optim.SGD(model.parameters(), lr=learning_rate)\n",
        "liveplot = PlotLosses()"
      ],
      "execution_count": 6,
      "outputs": []
    },
    {
      "cell_type": "markdown",
      "metadata": {
        "id": "lh6gY3iNYPzo"
      },
      "source": [
        "**Training Code**"
      ]
    },
    {
      "cell_type": "code",
      "metadata": {
        "id": "vjXOTHAhYRw3",
        "colab": {
          "base_uri": "https://localhost:8080/",
          "height": 702
        },
        "outputId": "c33d9520-8c99-43fd-d624-1f19f395047a"
      },
      "source": [
        "# helper function so set learning rate\n",
        "def set_lr(lr):\n",
        "  for param_group in optim.param_groups:\n",
        "    param_group['lr'] = lr\n",
        "\n",
        "epoch = 0\n",
        "best_val_acc = -np.inf\n",
        "\n",
        "while (epoch < n_epoch):\n",
        "  epoch_loss = {}\n",
        "  epoch_acc = {}\n",
        "  for phase in [\"train\", \"test\"]:\n",
        "    if phase == \"train\":\n",
        "      model.train()\n",
        "    else:\n",
        "      model.eval()\n",
        "\n",
        "    losses = 0\n",
        "    correct = 0\n",
        "    total = 0\n",
        "  \n",
        "    for batch_data, labels in dataloaders[phase]:\n",
        "      batch_data, labels = batch_data.to(device), labels.to(device)\n",
        "\n",
        "      if phase == \"train\":\n",
        "        # stochastic frame sampling\n",
        "        batch_data = torch.cat((batch_data[:, np.sort(np.random.choice([i for i in range(0,150)], 25, replace=False)), :], \n",
        "                              batch_data[:, np.sort(np.random.choice([i for i in range(150,240)], 18, replace=False)), :], \n",
        "                              batch_data[:, np.sort(np.random.choice([i for i in range(240,290)], 25, replace=False)), :], \n",
        "                              batch_data[:, 290:300, :]), dim=1)\n",
        "      \n",
        "        # batch normalization\n",
        "        flat_data = batch_data.reshape(-1, batch_data.shape[-1])\n",
        "      \n",
        "        batch_means = torch.mean(flat_data, 0).view(1,1,-1)\n",
        "        batch_stds = torch.std(flat_data, 0).view(1,1,-1)\n",
        "        batch_stds = batch_stds.masked_fill(batch_stds == 0.0, 0.001)\n",
        "\n",
        "        batch_data = (batch_data - batch_means) / batch_stds\n",
        "\n",
        "        if torch.isnan(batch_data).any():\n",
        "          print(\"error\")\n",
        "      \n",
        "      output = model(batch_data)\n",
        "      loss = nn.CrossEntropyLoss()(output.squeeze(), labels.long())\n",
        "\n",
        "      # parameter update step\n",
        "      if phase == \"train\":\n",
        "        optim.zero_grad()\n",
        "        loss.backward()\n",
        "        optim.step()\n",
        "\n",
        "      _, predicted = torch.max(output, dim=1)\n",
        "      total += labels.shape[0]\n",
        "      correct += int((predicted == labels).sum())\n",
        "      losses += loss.item() * labels.shape[0]\n",
        "\n",
        "    epoch_acc[phase] = 100*(correct / total)\n",
        "    epoch_loss[phase] = losses / total\n",
        "\n",
        "    if phase == \"test\" and epoch_acc[phase] > best_val_acc:\n",
        "      best_val_acc = epoch_acc[phase]\n",
        "      torch.save({'model':model.state_dict()}, 'drive/My Drive/training/LSTM1.chkpt')\n",
        "\n",
        "  epoch += 1\n",
        "  \n",
        "  learning_rate *= lr_decay_rate\n",
        "  set_lr(learning_rate)\n",
        "  \n",
        "  liveplot.update({\"loss\" : epoch_loss[\"train\"], \"val_loss\" : epoch_loss[\"test\"], \"accuracy\" : epoch_acc[\"train\"], \"val_accuracy\" : epoch_acc[\"test\"]})\n",
        "  liveplot.send()\n",
        "  print('Epoch {}/{}'.format(epoch, n_epoch))"
      ],
      "execution_count": 7,
      "outputs": [
        {
          "output_type": "display_data",
          "data": {
            "image/png": "[encoded data removed]",
            "text/plain": [
              "<Figure size 864x576 with 2 Axes>"
            ]
          },
          "metadata": {
            "tags": [],
            "needs_background": "light"
          }
        },
        {
          "output_type": "stream",
          "text": [
            "accuracy\n",
            "\ttraining         \t (min:   67.330, max:   72.682, cur:   72.596)\n",
            "\tvalidation       \t (min:   72.410, max:   73.557, cur:   72.982)\n",
            "Loss\n",
            "\ttraining         \t (min:    0.898, max:    1.054, cur:    0.901)\n",
            "\tvalidation       \t (min:    0.889, max:    0.926, cur:    0.906)\n",
            "Epoch 40/40\n"
          ],
          "name": "stdout"
        }
      ]
    },
    {
      "cell_type": "markdown",
      "metadata": {
        "id": "hUGCbeToZ7uz"
      },
      "source": [
        "**Model Validation**"
      ]
    },
    {
      "cell_type": "code",
      "metadata": {
        "id": "jxaI49K5Z7FK",
        "colab": {
          "base_uri": "https://localhost:8080/"
        },
        "outputId": "3914d67a-3e41-4016-d195-a2a07bb2661c"
      },
      "source": [
        "try:\n",
        "  params = torch.load('drive/My Drive/training/LSTM1.chkpt')\n",
        "  model.load_state_dict(params['model'])\n",
        "except:\n",
        "  print('Failed to load best model ... using current model')\n",
        "\n",
        "model.eval()\n",
        "\n",
        "with torch.no_grad():\n",
        "  for phase in [\"train\", \"test\"]:\n",
        "    correct = 0\n",
        "    total = 0\n",
        "    for batch_data, labels in dataloaders[phase]:\n",
        "      batch_data, labels = batch_data.to(device), labels.to(device).long()\n",
        "\n",
        "      if phase == \"train\":\n",
        "        # stochastic frame sampling\n",
        "        batch_data = torch.cat((batch_data[:, np.sort(np.random.choice([i for i in range(0,150)], 25, replace=False)), :], \n",
        "                              batch_data[:, np.sort(np.random.choice([i for i in range(150,240)], 18, replace=False)), :], \n",
        "                              batch_data[:, np.sort(np.random.choice([i for i in range(240,290)], 25, replace=False)), :], \n",
        "                              batch_data[:, 290:300, :]), dim=1)\n",
        "\n",
        "      output = model(batch_data)\n",
        "\n",
        "      _, predicted = torch.max(output, dim=1)\n",
        "      total += labels.shape[0]\n",
        "      correct += int((predicted == labels).sum())\n",
        "\n",
        "    print(f\"Model ({phase}) accuracy: {100*(correct / total)}%\")"
      ],
      "execution_count": 8,
      "outputs": [
        {
          "output_type": "stream",
          "text": [
            "Model (train) accuracy: 74.89099446587288%\n",
            "Model (test) accuracy: 73.55671687672918%\n"
          ],
          "name": "stdout"
        }
      ]
    }
  ]
}